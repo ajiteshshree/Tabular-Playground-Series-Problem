{
 "cells": [
  {
   "cell_type": "code",
   "execution_count": 1,
   "id": "a91e5897",
   "metadata": {},
   "outputs": [],
   "source": [
    "import pandas as pd\n",
    "import numpy as np"
   ]
  },
  {
   "cell_type": "code",
   "execution_count": 2,
   "id": "e25a7f42",
   "metadata": {},
   "outputs": [],
   "source": [
    "train = pd.read_csv('https://raw.githubusercontent.com/ajiteshshree/Tabular-Playground-Series-Problem/main/data/train.csv')\n",
    "test = pd.read_csv('https://raw.githubusercontent.com/ajiteshshree/Tabular-Playground-Series-Problem/main/data/test.csv')"
   ]
  },
  {
   "cell_type": "code",
   "execution_count": 3,
   "id": "aeda37f7",
   "metadata": {},
   "outputs": [
    {
     "data": {
      "text/html": [
       "<div>\n",
       "<style scoped>\n",
       "    .dataframe tbody tr th:only-of-type {\n",
       "        vertical-align: middle;\n",
       "    }\n",
       "\n",
       "    .dataframe tbody tr th {\n",
       "        vertical-align: top;\n",
       "    }\n",
       "\n",
       "    .dataframe thead th {\n",
       "        text-align: right;\n",
       "    }\n",
       "</style>\n",
       "<table border=\"1\" class=\"dataframe\">\n",
       "  <thead>\n",
       "    <tr style=\"text-align: right;\">\n",
       "      <th></th>\n",
       "      <th>id</th>\n",
       "      <th>product_code</th>\n",
       "      <th>loading</th>\n",
       "      <th>attribute_0</th>\n",
       "      <th>attribute_1</th>\n",
       "      <th>attribute_2</th>\n",
       "      <th>attribute_3</th>\n",
       "      <th>measurement_0</th>\n",
       "      <th>measurement_1</th>\n",
       "      <th>measurement_2</th>\n",
       "      <th>...</th>\n",
       "      <th>measurement_9</th>\n",
       "      <th>measurement_10</th>\n",
       "      <th>measurement_11</th>\n",
       "      <th>measurement_12</th>\n",
       "      <th>measurement_13</th>\n",
       "      <th>measurement_14</th>\n",
       "      <th>measurement_15</th>\n",
       "      <th>measurement_16</th>\n",
       "      <th>measurement_17</th>\n",
       "      <th>failure</th>\n",
       "    </tr>\n",
       "  </thead>\n",
       "  <tbody>\n",
       "    <tr>\n",
       "      <th>0</th>\n",
       "      <td>0</td>\n",
       "      <td>A</td>\n",
       "      <td>80.10</td>\n",
       "      <td>material_7</td>\n",
       "      <td>material_8</td>\n",
       "      <td>9</td>\n",
       "      <td>5</td>\n",
       "      <td>7</td>\n",
       "      <td>8</td>\n",
       "      <td>4</td>\n",
       "      <td>...</td>\n",
       "      <td>10.672</td>\n",
       "      <td>15.859</td>\n",
       "      <td>17.594</td>\n",
       "      <td>15.193</td>\n",
       "      <td>15.029</td>\n",
       "      <td>NaN</td>\n",
       "      <td>13.034</td>\n",
       "      <td>14.684</td>\n",
       "      <td>764.100</td>\n",
       "      <td>0</td>\n",
       "    </tr>\n",
       "    <tr>\n",
       "      <th>1</th>\n",
       "      <td>1</td>\n",
       "      <td>A</td>\n",
       "      <td>84.89</td>\n",
       "      <td>material_7</td>\n",
       "      <td>material_8</td>\n",
       "      <td>9</td>\n",
       "      <td>5</td>\n",
       "      <td>14</td>\n",
       "      <td>3</td>\n",
       "      <td>3</td>\n",
       "      <td>...</td>\n",
       "      <td>12.448</td>\n",
       "      <td>17.947</td>\n",
       "      <td>17.915</td>\n",
       "      <td>11.755</td>\n",
       "      <td>14.732</td>\n",
       "      <td>15.425</td>\n",
       "      <td>14.395</td>\n",
       "      <td>15.631</td>\n",
       "      <td>682.057</td>\n",
       "      <td>0</td>\n",
       "    </tr>\n",
       "    <tr>\n",
       "      <th>2</th>\n",
       "      <td>2</td>\n",
       "      <td>A</td>\n",
       "      <td>82.43</td>\n",
       "      <td>material_7</td>\n",
       "      <td>material_8</td>\n",
       "      <td>9</td>\n",
       "      <td>5</td>\n",
       "      <td>12</td>\n",
       "      <td>1</td>\n",
       "      <td>5</td>\n",
       "      <td>...</td>\n",
       "      <td>12.715</td>\n",
       "      <td>15.607</td>\n",
       "      <td>NaN</td>\n",
       "      <td>13.798</td>\n",
       "      <td>16.711</td>\n",
       "      <td>18.631</td>\n",
       "      <td>14.094</td>\n",
       "      <td>17.946</td>\n",
       "      <td>663.376</td>\n",
       "      <td>0</td>\n",
       "    </tr>\n",
       "    <tr>\n",
       "      <th>3</th>\n",
       "      <td>3</td>\n",
       "      <td>A</td>\n",
       "      <td>101.07</td>\n",
       "      <td>material_7</td>\n",
       "      <td>material_8</td>\n",
       "      <td>9</td>\n",
       "      <td>5</td>\n",
       "      <td>13</td>\n",
       "      <td>2</td>\n",
       "      <td>6</td>\n",
       "      <td>...</td>\n",
       "      <td>12.471</td>\n",
       "      <td>16.346</td>\n",
       "      <td>18.377</td>\n",
       "      <td>10.020</td>\n",
       "      <td>15.250</td>\n",
       "      <td>15.562</td>\n",
       "      <td>16.154</td>\n",
       "      <td>17.172</td>\n",
       "      <td>826.282</td>\n",
       "      <td>0</td>\n",
       "    </tr>\n",
       "    <tr>\n",
       "      <th>4</th>\n",
       "      <td>4</td>\n",
       "      <td>A</td>\n",
       "      <td>188.06</td>\n",
       "      <td>material_7</td>\n",
       "      <td>material_8</td>\n",
       "      <td>9</td>\n",
       "      <td>5</td>\n",
       "      <td>9</td>\n",
       "      <td>2</td>\n",
       "      <td>8</td>\n",
       "      <td>...</td>\n",
       "      <td>10.337</td>\n",
       "      <td>17.082</td>\n",
       "      <td>19.932</td>\n",
       "      <td>12.428</td>\n",
       "      <td>16.182</td>\n",
       "      <td>12.760</td>\n",
       "      <td>13.153</td>\n",
       "      <td>16.412</td>\n",
       "      <td>579.885</td>\n",
       "      <td>0</td>\n",
       "    </tr>\n",
       "  </tbody>\n",
       "</table>\n",
       "<p>5 rows × 26 columns</p>\n",
       "</div>"
      ],
      "text/plain": [
       "   id product_code  loading attribute_0 attribute_1  attribute_2  attribute_3  \\\n",
       "0   0            A    80.10  material_7  material_8            9            5   \n",
       "1   1            A    84.89  material_7  material_8            9            5   \n",
       "2   2            A    82.43  material_7  material_8            9            5   \n",
       "3   3            A   101.07  material_7  material_8            9            5   \n",
       "4   4            A   188.06  material_7  material_8            9            5   \n",
       "\n",
       "   measurement_0  measurement_1  measurement_2  ...  measurement_9  \\\n",
       "0              7              8              4  ...         10.672   \n",
       "1             14              3              3  ...         12.448   \n",
       "2             12              1              5  ...         12.715   \n",
       "3             13              2              6  ...         12.471   \n",
       "4              9              2              8  ...         10.337   \n",
       "\n",
       "   measurement_10  measurement_11  measurement_12  measurement_13  \\\n",
       "0          15.859          17.594          15.193          15.029   \n",
       "1          17.947          17.915          11.755          14.732   \n",
       "2          15.607             NaN          13.798          16.711   \n",
       "3          16.346          18.377          10.020          15.250   \n",
       "4          17.082          19.932          12.428          16.182   \n",
       "\n",
       "   measurement_14  measurement_15  measurement_16  measurement_17  failure  \n",
       "0             NaN          13.034          14.684         764.100        0  \n",
       "1          15.425          14.395          15.631         682.057        0  \n",
       "2          18.631          14.094          17.946         663.376        0  \n",
       "3          15.562          16.154          17.172         826.282        0  \n",
       "4          12.760          13.153          16.412         579.885        0  \n",
       "\n",
       "[5 rows x 26 columns]"
      ]
     },
     "execution_count": 3,
     "metadata": {},
     "output_type": "execute_result"
    }
   ],
   "source": [
    "train.head()"
   ]
  },
  {
   "cell_type": "code",
   "execution_count": 4,
   "id": "eaf9d437",
   "metadata": {},
   "outputs": [],
   "source": [
    "y_train = train['failure']\n",
    "X = train.drop(['id','failure','product_code'],axis=1)"
   ]
  },
  {
   "cell_type": "code",
   "execution_count": 5,
   "id": "c7540389",
   "metadata": {},
   "outputs": [],
   "source": [
    "X_pred = test.drop(['id','product_code'],axis=1)"
   ]
  },
  {
   "cell_type": "code",
   "execution_count": 6,
   "id": "911752d2",
   "metadata": {},
   "outputs": [
    {
     "data": {
      "text/html": [
       "<div>\n",
       "<style scoped>\n",
       "    .dataframe tbody tr th:only-of-type {\n",
       "        vertical-align: middle;\n",
       "    }\n",
       "\n",
       "    .dataframe tbody tr th {\n",
       "        vertical-align: top;\n",
       "    }\n",
       "\n",
       "    .dataframe thead th {\n",
       "        text-align: right;\n",
       "    }\n",
       "</style>\n",
       "<table border=\"1\" class=\"dataframe\">\n",
       "  <thead>\n",
       "    <tr style=\"text-align: right;\">\n",
       "      <th></th>\n",
       "      <th>loading</th>\n",
       "      <th>attribute_0</th>\n",
       "      <th>attribute_1</th>\n",
       "      <th>attribute_2</th>\n",
       "      <th>attribute_3</th>\n",
       "      <th>measurement_0</th>\n",
       "      <th>measurement_1</th>\n",
       "      <th>measurement_2</th>\n",
       "      <th>measurement_3</th>\n",
       "      <th>measurement_4</th>\n",
       "      <th>...</th>\n",
       "      <th>measurement_8</th>\n",
       "      <th>measurement_9</th>\n",
       "      <th>measurement_10</th>\n",
       "      <th>measurement_11</th>\n",
       "      <th>measurement_12</th>\n",
       "      <th>measurement_13</th>\n",
       "      <th>measurement_14</th>\n",
       "      <th>measurement_15</th>\n",
       "      <th>measurement_16</th>\n",
       "      <th>measurement_17</th>\n",
       "    </tr>\n",
       "  </thead>\n",
       "  <tbody>\n",
       "    <tr>\n",
       "      <th>0</th>\n",
       "      <td>80.10</td>\n",
       "      <td>material_7</td>\n",
       "      <td>material_8</td>\n",
       "      <td>9</td>\n",
       "      <td>5</td>\n",
       "      <td>7</td>\n",
       "      <td>8</td>\n",
       "      <td>4</td>\n",
       "      <td>18.040</td>\n",
       "      <td>12.518</td>\n",
       "      <td>...</td>\n",
       "      <td>20.155</td>\n",
       "      <td>10.672</td>\n",
       "      <td>15.859</td>\n",
       "      <td>17.594</td>\n",
       "      <td>15.193</td>\n",
       "      <td>15.029</td>\n",
       "      <td>NaN</td>\n",
       "      <td>13.034</td>\n",
       "      <td>14.684</td>\n",
       "      <td>764.100</td>\n",
       "    </tr>\n",
       "    <tr>\n",
       "      <th>1</th>\n",
       "      <td>84.89</td>\n",
       "      <td>material_7</td>\n",
       "      <td>material_8</td>\n",
       "      <td>9</td>\n",
       "      <td>5</td>\n",
       "      <td>14</td>\n",
       "      <td>3</td>\n",
       "      <td>3</td>\n",
       "      <td>18.213</td>\n",
       "      <td>11.540</td>\n",
       "      <td>...</td>\n",
       "      <td>17.889</td>\n",
       "      <td>12.448</td>\n",
       "      <td>17.947</td>\n",
       "      <td>17.915</td>\n",
       "      <td>11.755</td>\n",
       "      <td>14.732</td>\n",
       "      <td>15.425</td>\n",
       "      <td>14.395</td>\n",
       "      <td>15.631</td>\n",
       "      <td>682.057</td>\n",
       "    </tr>\n",
       "    <tr>\n",
       "      <th>2</th>\n",
       "      <td>82.43</td>\n",
       "      <td>material_7</td>\n",
       "      <td>material_8</td>\n",
       "      <td>9</td>\n",
       "      <td>5</td>\n",
       "      <td>12</td>\n",
       "      <td>1</td>\n",
       "      <td>5</td>\n",
       "      <td>18.057</td>\n",
       "      <td>11.652</td>\n",
       "      <td>...</td>\n",
       "      <td>18.288</td>\n",
       "      <td>12.715</td>\n",
       "      <td>15.607</td>\n",
       "      <td>NaN</td>\n",
       "      <td>13.798</td>\n",
       "      <td>16.711</td>\n",
       "      <td>18.631</td>\n",
       "      <td>14.094</td>\n",
       "      <td>17.946</td>\n",
       "      <td>663.376</td>\n",
       "    </tr>\n",
       "    <tr>\n",
       "      <th>3</th>\n",
       "      <td>101.07</td>\n",
       "      <td>material_7</td>\n",
       "      <td>material_8</td>\n",
       "      <td>9</td>\n",
       "      <td>5</td>\n",
       "      <td>13</td>\n",
       "      <td>2</td>\n",
       "      <td>6</td>\n",
       "      <td>17.295</td>\n",
       "      <td>11.188</td>\n",
       "      <td>...</td>\n",
       "      <td>19.060</td>\n",
       "      <td>12.471</td>\n",
       "      <td>16.346</td>\n",
       "      <td>18.377</td>\n",
       "      <td>10.020</td>\n",
       "      <td>15.250</td>\n",
       "      <td>15.562</td>\n",
       "      <td>16.154</td>\n",
       "      <td>17.172</td>\n",
       "      <td>826.282</td>\n",
       "    </tr>\n",
       "    <tr>\n",
       "      <th>4</th>\n",
       "      <td>188.06</td>\n",
       "      <td>material_7</td>\n",
       "      <td>material_8</td>\n",
       "      <td>9</td>\n",
       "      <td>5</td>\n",
       "      <td>9</td>\n",
       "      <td>2</td>\n",
       "      <td>8</td>\n",
       "      <td>19.346</td>\n",
       "      <td>12.950</td>\n",
       "      <td>...</td>\n",
       "      <td>18.093</td>\n",
       "      <td>10.337</td>\n",
       "      <td>17.082</td>\n",
       "      <td>19.932</td>\n",
       "      <td>12.428</td>\n",
       "      <td>16.182</td>\n",
       "      <td>12.760</td>\n",
       "      <td>13.153</td>\n",
       "      <td>16.412</td>\n",
       "      <td>579.885</td>\n",
       "    </tr>\n",
       "  </tbody>\n",
       "</table>\n",
       "<p>5 rows × 23 columns</p>\n",
       "</div>"
      ],
      "text/plain": [
       "   loading attribute_0 attribute_1  attribute_2  attribute_3  measurement_0  \\\n",
       "0    80.10  material_7  material_8            9            5              7   \n",
       "1    84.89  material_7  material_8            9            5             14   \n",
       "2    82.43  material_7  material_8            9            5             12   \n",
       "3   101.07  material_7  material_8            9            5             13   \n",
       "4   188.06  material_7  material_8            9            5              9   \n",
       "\n",
       "   measurement_1  measurement_2  measurement_3  measurement_4  ...  \\\n",
       "0              8              4         18.040         12.518  ...   \n",
       "1              3              3         18.213         11.540  ...   \n",
       "2              1              5         18.057         11.652  ...   \n",
       "3              2              6         17.295         11.188  ...   \n",
       "4              2              8         19.346         12.950  ...   \n",
       "\n",
       "   measurement_8  measurement_9  measurement_10  measurement_11  \\\n",
       "0         20.155         10.672          15.859          17.594   \n",
       "1         17.889         12.448          17.947          17.915   \n",
       "2         18.288         12.715          15.607             NaN   \n",
       "3         19.060         12.471          16.346          18.377   \n",
       "4         18.093         10.337          17.082          19.932   \n",
       "\n",
       "   measurement_12  measurement_13  measurement_14  measurement_15  \\\n",
       "0          15.193          15.029             NaN          13.034   \n",
       "1          11.755          14.732          15.425          14.395   \n",
       "2          13.798          16.711          18.631          14.094   \n",
       "3          10.020          15.250          15.562          16.154   \n",
       "4          12.428          16.182          12.760          13.153   \n",
       "\n",
       "   measurement_16  measurement_17  \n",
       "0          14.684         764.100  \n",
       "1          15.631         682.057  \n",
       "2          17.946         663.376  \n",
       "3          17.172         826.282  \n",
       "4          16.412         579.885  \n",
       "\n",
       "[5 rows x 23 columns]"
      ]
     },
     "execution_count": 6,
     "metadata": {},
     "output_type": "execute_result"
    }
   ],
   "source": [
    "X.head()"
   ]
  },
  {
   "cell_type": "markdown",
   "id": "33ca2e57",
   "metadata": {},
   "source": [
    "<h1><u>Filling null values:</u></h1>"
   ]
  },
  {
   "cell_type": "code",
   "execution_count": 7,
   "id": "beb89a41",
   "metadata": {},
   "outputs": [
    {
     "data": {
      "text/plain": [
       "26570"
      ]
     },
     "execution_count": 7,
     "metadata": {},
     "output_type": "execute_result"
    }
   ],
   "source": [
    "X.shape[0]"
   ]
  },
  {
   "cell_type": "code",
   "execution_count": 8,
   "id": "4538e75f",
   "metadata": {},
   "outputs": [
    {
     "data": {
      "text/plain": [
       "loading            250\n",
       "attribute_0          0\n",
       "attribute_1          0\n",
       "attribute_2          0\n",
       "attribute_3          0\n",
       "measurement_0        0\n",
       "measurement_1        0\n",
       "measurement_2        0\n",
       "measurement_3      381\n",
       "measurement_4      538\n",
       "measurement_5      676\n",
       "measurement_6      796\n",
       "measurement_7      937\n",
       "measurement_8     1048\n",
       "measurement_9     1227\n",
       "measurement_10    1300\n",
       "measurement_11    1468\n",
       "measurement_12    1601\n",
       "measurement_13    1774\n",
       "measurement_14    1874\n",
       "measurement_15    2009\n",
       "measurement_16    2110\n",
       "measurement_17    2284\n",
       "dtype: int64"
      ]
     },
     "execution_count": 8,
     "metadata": {},
     "output_type": "execute_result"
    }
   ],
   "source": [
    "X.isnull().sum()"
   ]
  },
  {
   "cell_type": "code",
   "execution_count": 9,
   "id": "d94a333f",
   "metadata": {},
   "outputs": [],
   "source": [
    "X['loading'].fillna(X['loading'].mean(),inplace=True)\n",
    "X['measurement_3'].fillna(X['measurement_3'].mean(),inplace=True)\n",
    "X['measurement_4'].fillna(X['measurement_4'].mean(),inplace=True)\n",
    "X['measurement_5'].fillna(X['measurement_5'].mean(),inplace=True)\n",
    "X['measurement_6'].fillna(X['measurement_6'].mean(),inplace=True)\n",
    "X['measurement_7'].fillna(X['measurement_7'].mean(),inplace=True)\n",
    "X['measurement_8'].fillna(X['measurement_8'].mean(),inplace=True)\n",
    "X['measurement_9'].fillna(X['measurement_9'].mean(),inplace=True)\n",
    "X['measurement_10'].fillna(X['measurement_10'].mean(),inplace=True)\n",
    "X['measurement_11'].fillna(X['measurement_11'].mean(),inplace=True)\n",
    "X['measurement_12'].fillna(X['measurement_12'].mean(),inplace=True)\n",
    "X['measurement_13'].fillna(X['measurement_13'].mean(),inplace=True)\n",
    "X['measurement_14'].fillna(X['measurement_14'].mean(),inplace=True)\n",
    "X['measurement_15'].fillna(X['measurement_15'].mean(),inplace=True)\n",
    "X['measurement_16'].fillna(X['measurement_16'].mean(),inplace=True)\n",
    "X['measurement_17'].fillna(X['measurement_17'].mean(),inplace=True)"
   ]
  },
  {
   "cell_type": "code",
   "execution_count": 10,
   "id": "1c7daa5d",
   "metadata": {},
   "outputs": [
    {
     "data": {
      "text/plain": [
       "loading            223\n",
       "attribute_0          0\n",
       "attribute_1          0\n",
       "attribute_2          0\n",
       "attribute_3          0\n",
       "measurement_0        0\n",
       "measurement_1        0\n",
       "measurement_2        0\n",
       "measurement_3      329\n",
       "measurement_4      409\n",
       "measurement_5      508\n",
       "measurement_6      624\n",
       "measurement_7      720\n",
       "measurement_8      846\n",
       "measurement_9      904\n",
       "measurement_10    1067\n",
       "measurement_11    1136\n",
       "measurement_12    1240\n",
       "measurement_13    1303\n",
       "measurement_14    1440\n",
       "measurement_15    1542\n",
       "measurement_16    1678\n",
       "measurement_17    1740\n",
       "dtype: int64"
      ]
     },
     "execution_count": 10,
     "metadata": {},
     "output_type": "execute_result"
    }
   ],
   "source": [
    "X_pred.isnull().sum()"
   ]
  },
  {
   "cell_type": "code",
   "execution_count": 11,
   "id": "e7cc579b",
   "metadata": {},
   "outputs": [],
   "source": [
    "X_pred['loading'].fillna(X_pred['loading'].mean(),inplace=True)\n",
    "X_pred['measurement_3'].fillna(X_pred['measurement_3'].mean(),inplace=True)\n",
    "X_pred['measurement_4'].fillna(X_pred['measurement_4'].mean(),inplace=True)\n",
    "X_pred['measurement_5'].fillna(X_pred['measurement_5'].mean(),inplace=True)\n",
    "X_pred['measurement_6'].fillna(X_pred['measurement_6'].mean(),inplace=True)\n",
    "X_pred['measurement_7'].fillna(X_pred['measurement_7'].mean(),inplace=True)\n",
    "X_pred['measurement_8'].fillna(X_pred['measurement_8'].mean(),inplace=True)\n",
    "X_pred['measurement_9'].fillna(X_pred['measurement_9'].mean(),inplace=True)\n",
    "X_pred['measurement_10'].fillna(X_pred['measurement_10'].mean(),inplace=True)\n",
    "X_pred['measurement_11'].fillna(X_pred['measurement_11'].mean(),inplace=True)\n",
    "X_pred['measurement_12'].fillna(X_pred['measurement_12'].mean(),inplace=True)\n",
    "X_pred['measurement_13'].fillna(X_pred['measurement_13'].mean(),inplace=True)\n",
    "X_pred['measurement_14'].fillna(X_pred['measurement_14'].mean(),inplace=True)\n",
    "X_pred['measurement_15'].fillna(X_pred['measurement_15'].mean(),inplace=True)\n",
    "X_pred['measurement_16'].fillna(X_pred['measurement_16'].mean(),inplace=True)\n",
    "X_pred['measurement_17'].fillna(X_pred['measurement_17'].mean(),inplace=True)"
   ]
  },
  {
   "cell_type": "markdown",
   "id": "0e0b0efc",
   "metadata": {},
   "source": [
    "<h1><u>Get_dummies:</u></h1>"
   ]
  },
  {
   "cell_type": "code",
   "execution_count": 12,
   "id": "f613c62a",
   "metadata": {},
   "outputs": [],
   "source": [
    "A = pd.get_dummies(X)"
   ]
  },
  {
   "cell_type": "code",
   "execution_count": 13,
   "id": "66886b6b",
   "metadata": {},
   "outputs": [],
   "source": [
    "Test = pd.get_dummies(X_pred)"
   ]
  },
  {
   "cell_type": "code",
   "execution_count": 54,
   "id": "941675f5",
   "metadata": {},
   "outputs": [],
   "source": [
    "tupple = A.align(Test,axis=1,fill_value=0)"
   ]
  },
  {
   "cell_type": "code",
   "execution_count": 63,
   "id": "c71b001b",
   "metadata": {},
   "outputs": [],
   "source": [
    "TRAIN = pd.DataFrame(tupple[0])\n",
    "TEST = pd.DataFrame(tupple[1])"
   ]
  },
  {
   "cell_type": "markdown",
   "id": "a99596b2",
   "metadata": {},
   "source": [
    "<h1><u>Scaling:</u></h1>"
   ]
  },
  {
   "cell_type": "code",
   "execution_count": 14,
   "id": "d90834f8",
   "metadata": {},
   "outputs": [],
   "source": [
    "from sklearn.preprocessing import StandardScaler\n",
    "ss = StandardScaler()"
   ]
  },
  {
   "cell_type": "code",
   "execution_count": 68,
   "id": "cfb3aad3",
   "metadata": {},
   "outputs": [
    {
     "data": {
      "text/plain": [
       "StandardScaler()"
      ]
     },
     "execution_count": 68,
     "metadata": {},
     "output_type": "execute_result"
    }
   ],
   "source": [
    "ss.fit(TRAIN)\n",
    "ss.fit(TEST)"
   ]
  },
  {
   "cell_type": "markdown",
   "id": "4776fb60",
   "metadata": {},
   "source": [
    "<h1><u>Model:</u></h1>"
   ]
  },
  {
   "cell_type": "code",
   "execution_count": 18,
   "id": "3eb8946a",
   "metadata": {},
   "outputs": [
    {
     "data": {
      "text/plain": [
       "0    20921\n",
       "1     5649\n",
       "Name: failure, dtype: int64"
      ]
     },
     "execution_count": 18,
     "metadata": {},
     "output_type": "execute_result"
    }
   ],
   "source": [
    "y_train.value_counts()"
   ]
  },
  {
   "cell_type": "code",
   "execution_count": 93,
   "id": "14b5d890",
   "metadata": {},
   "outputs": [],
   "source": [
    "from sklearn.linear_model import LogisticRegression\n",
    "lr = LogisticRegression(class_weight={0:1, 1: 3},max_iter=10000)"
   ]
  },
  {
   "cell_type": "code",
   "execution_count": 94,
   "id": "76c77fd8",
   "metadata": {},
   "outputs": [
    {
     "data": {
      "text/plain": [
       "LogisticRegression(class_weight={0: 1, 1: 3}, max_iter=10000)"
      ]
     },
     "execution_count": 94,
     "metadata": {},
     "output_type": "execute_result"
    }
   ],
   "source": [
    "lr.fit(TRAIN,y_train)"
   ]
  },
  {
   "cell_type": "code",
   "execution_count": 95,
   "id": "dbc639c5",
   "metadata": {},
   "outputs": [],
   "source": [
    "pred = lr.predict(TEST)"
   ]
  },
  {
   "cell_type": "code",
   "execution_count": 96,
   "id": "09e2aa3b",
   "metadata": {},
   "outputs": [],
   "source": [
    "submission =  pd.DataFrame({'id': test['id'],'failure': pred})\n",
    "submission.set_index('id',inplace=True)"
   ]
  },
  {
   "cell_type": "code",
   "execution_count": 97,
   "id": "26843a68",
   "metadata": {},
   "outputs": [],
   "source": [
    "submission.to_csv('submission.csv')"
   ]
  }
 ],
 "metadata": {
  "kernelspec": {
   "display_name": "Python 3 (ipykernel)",
   "language": "python",
   "name": "python3"
  },
  "language_info": {
   "codemirror_mode": {
    "name": "ipython",
    "version": 3
   },
   "file_extension": ".py",
   "mimetype": "text/x-python",
   "name": "python",
   "nbconvert_exporter": "python",
   "pygments_lexer": "ipython3",
   "version": "3.9.12"
  }
 },
 "nbformat": 4,
 "nbformat_minor": 5
}
